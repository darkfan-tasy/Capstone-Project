{
 "cells": [
  {
   "cell_type": "code",
   "execution_count": null,
   "id": "06a4977d-329d-462a-9d5e-2f7e6eed8ee6",
   "metadata": {},
   "outputs": [],
   "source": [
    "import openai\n",
    "import pandas as pd\n",
    "import numpy as np\n",
    "from sklearn.model_selection import train_test_split\n",
    "\n",
    "# Set your OpenAI API key\n",
    "openai.api_key = \"TheBloke/zephyr-7B-beta-GPTQ\"\n"
   ]
  },
  {
   "cell_type": "code",
   "execution_count": null,
   "id": "e4be018d-47cb-4d85-851f-bb50e5a52163",
   "metadata": {},
   "outputs": [],
   "source": [
    "# Load data\n",
    "data = pd.read_csv('customer_support_data.csv')\n",
    "\n",
    "# Display the first few rows of the dataset\n",
    "print(data.head())\n",
    "\n",
    "# Clean and preprocess data\n",
    "def preprocess_text(text):\n",
    "    # Add your text preprocessing steps here (e.g., lowercasing, removing punctuation, etc.)\n",
    "    return text.lower()\n",
    "\n",
    "data['query'] = data['query'].apply(preprocess_text)\n",
    "data['response'] = data['response'].apply(preprocess_text)\n",
    "\n",
    "# Split data into training and test sets\n",
    "train_data, test_data = train_test_split(data, test_size=0.2, random_state=42)\n"
   ]
  },
  {
   "cell_type": "code",
   "execution_count": null,
   "id": "64e64be6-3f4f-468f-aa61-c9742d5a2edc",
   "metadata": {},
   "outputs": [],
   "source": []
  },
  {
   "cell_type": "code",
   "execution_count": null,
   "id": "9af88e8c-7a96-471d-9292-5cd49662b326",
   "metadata": {},
   "outputs": [],
   "source": []
  }
 ],
 "metadata": {
  "kernelspec": {
   "display_name": "Python 3 (ipykernel)",
   "language": "python",
   "name": "python3"
  },
  "language_info": {
   "codemirror_mode": {
    "name": "ipython",
    "version": 3
   },
   "file_extension": ".py",
   "mimetype": "text/x-python",
   "name": "python",
   "nbconvert_exporter": "python",
   "pygments_lexer": "ipython3",
   "version": "3.11.7"
  }
 },
 "nbformat": 4,
 "nbformat_minor": 5
}
